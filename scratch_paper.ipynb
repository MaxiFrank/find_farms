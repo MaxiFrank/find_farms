{
 "cells": [
  {
   "cell_type": "markdown",
   "metadata": {
    "toc": true
   },
   "source": [
    "<h1>Table of Contents<span class=\"tocSkip\"></span></h1>\n",
    "<div class=\"toc\"><ul class=\"toc-item\"></ul></div>"
   ]
  },
  {
   "cell_type": "code",
   "execution_count": 12,
   "metadata": {},
   "outputs": [
    {
     "name": "stdout",
     "output_type": "stream",
     "text": [
      "Collecting pyzipcode\n",
      "Installing collected packages: pyzipcode\n",
      "Successfully installed pyzipcode-3.0.1\n"
     ]
    }
   ],
   "source": [
    "!pip install pyzipcode"
   ]
  },
  {
   "cell_type": "code",
   "execution_count": 13,
   "metadata": {
    "scrolled": true
   },
   "outputs": [],
   "source": [
    "from pyzipcode import ZipCodeDatabase"
   ]
  },
  {
   "cell_type": "code",
   "execution_count": 14,
   "metadata": {},
   "outputs": [],
   "source": [
    "zcdb = ZipCodeDatabase()"
   ]
  },
  {
   "cell_type": "code",
   "execution_count": 15,
   "metadata": {},
   "outputs": [
    {
     "data": {
      "text/plain": [
       "['59411',\n",
       " '59417',\n",
       " '59432',\n",
       " '59434',\n",
       " '59448',\n",
       " '59473',\n",
       " '59639',\n",
       " '59702',\n",
       " '59703',\n",
       " '59707',\n",
       " '59711',\n",
       " '59722',\n",
       " '59724',\n",
       " '59725',\n",
       " '59727',\n",
       " '59731',\n",
       " '59732',\n",
       " '59733',\n",
       " '59736',\n",
       " '59743',\n",
       " '59746',\n",
       " '59748',\n",
       " '59750',\n",
       " '59756',\n",
       " '59761',\n",
       " '59762',\n",
       " '59801',\n",
       " '59802',\n",
       " '59803',\n",
       " '59804',\n",
       " '59806',\n",
       " '59807',\n",
       " '59808',\n",
       " '59812',\n",
       " '59820',\n",
       " '59821',\n",
       " '59823',\n",
       " '59824',\n",
       " '59825',\n",
       " '59826',\n",
       " '59827',\n",
       " '59828',\n",
       " '59829',\n",
       " '59830',\n",
       " '59831',\n",
       " '59832',\n",
       " '59833',\n",
       " '59834',\n",
       " '59835',\n",
       " '59836',\n",
       " '59837',\n",
       " '59840',\n",
       " '59841',\n",
       " '59842',\n",
       " '59843',\n",
       " '59845',\n",
       " '59846',\n",
       " '59847',\n",
       " '59848',\n",
       " '59851',\n",
       " '59854',\n",
       " '59855',\n",
       " '59856',\n",
       " '59858',\n",
       " '59859',\n",
       " '59860',\n",
       " '59863',\n",
       " '59864',\n",
       " '59865',\n",
       " '59866',\n",
       " '59867',\n",
       " '59868',\n",
       " '59870',\n",
       " '59871',\n",
       " '59872',\n",
       " '59873',\n",
       " '59875',\n",
       " '59901',\n",
       " '59902',\n",
       " '59903',\n",
       " '59904',\n",
       " '59910',\n",
       " '59911',\n",
       " '59912',\n",
       " '59913',\n",
       " '59914',\n",
       " '59915',\n",
       " '59916',\n",
       " '59917',\n",
       " '59918',\n",
       " '59919',\n",
       " '59920',\n",
       " '59921',\n",
       " '59922',\n",
       " '59923',\n",
       " '59925',\n",
       " '59926',\n",
       " '59927',\n",
       " '59928',\n",
       " '59929',\n",
       " '59930',\n",
       " '59931',\n",
       " '59932',\n",
       " '59933',\n",
       " '59934',\n",
       " '59936',\n",
       " '59937',\n",
       " '83462',\n",
       " '83463',\n",
       " '83466',\n",
       " '83469',\n",
       " '83525']"
      ]
     },
     "execution_count": 15,
     "metadata": {},
     "output_type": "execute_result"
    }
   ],
   "source": [
    "[z.zip for z in zcdb.get_zipcodes_around_radius(str('59821'), 100)]"
   ]
  },
  {
   "cell_type": "code",
   "execution_count": 16,
   "metadata": {},
   "outputs": [],
   "source": [
    "l = [[1, 2, 3], [4, 5, 6], [7], [8, 9]]"
   ]
  },
  {
   "cell_type": "code",
   "execution_count": 18,
   "metadata": {},
   "outputs": [
    {
     "data": {
      "text/plain": [
       "[1, 2, 3, 4, 5, 6, 7, 8, 9]"
      ]
     },
     "execution_count": 18,
     "metadata": {},
     "output_type": "execute_result"
    }
   ],
   "source": [
    "[ls for sub_list in l for ls in sub_list]"
   ]
  },
  {
   "cell_type": "code",
   "execution_count": 20,
   "metadata": {},
   "outputs": [],
   "source": [
    "result = []\n",
    "for sub_list in l:\n",
    "    for ls in sub_list:\n",
    "        result.append(ls)"
   ]
  },
  {
   "cell_type": "code",
   "execution_count": 21,
   "metadata": {},
   "outputs": [
    {
     "data": {
      "text/plain": [
       "[1, 2, 3, 4, 5, 6, 7, 8, 9]"
      ]
     },
     "execution_count": 21,
     "metadata": {},
     "output_type": "execute_result"
    }
   ],
   "source": [
    "result"
   ]
  },
  {
   "cell_type": "code",
   "execution_count": 22,
   "metadata": {},
   "outputs": [
    {
     "data": {
      "text/plain": [
       "[1, 2, 3, 4, 5, 6, 7, 8, 9]"
      ]
     },
     "execution_count": 22,
     "metadata": {},
     "output_type": "execute_result"
    }
   ],
   "source": [
    "[ls for sub_list in l for ls in sub_list]"
   ]
  },
  {
   "cell_type": "code",
   "execution_count": null,
   "metadata": {},
   "outputs": [],
   "source": []
  }
 ],
 "metadata": {
  "kernelspec": {
   "display_name": "Python 3",
   "language": "python",
   "name": "python3"
  },
  "language_info": {
   "codemirror_mode": {
    "name": "ipython",
    "version": 3
   },
   "file_extension": ".py",
   "mimetype": "text/x-python",
   "name": "python",
   "nbconvert_exporter": "python",
   "pygments_lexer": "ipython3",
   "version": "3.7.4"
  },
  "toc": {
   "base_numbering": 1,
   "nav_menu": {},
   "number_sections": true,
   "sideBar": true,
   "skip_h1_title": false,
   "title_cell": "Table of Contents",
   "title_sidebar": "Contents",
   "toc_cell": true,
   "toc_position": {},
   "toc_section_display": true,
   "toc_window_display": true
  }
 },
 "nbformat": 4,
 "nbformat_minor": 2
}