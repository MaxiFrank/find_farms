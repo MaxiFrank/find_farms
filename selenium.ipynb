{
 "cells": [
  {
   "cell_type": "markdown",
   "metadata": {
    "toc": true
   },
   "source": [
    "<h1>Table of Contents<span class=\"tocSkip\"></span></h1>\n",
    "<div class=\"toc\"><ul class=\"toc-item\"></ul></div>"
   ]
  },
  {
   "cell_type": "code",
   "execution_count": 1,
   "metadata": {},
   "outputs": [
    {
     "name": "stdout",
     "output_type": "stream",
     "text": [
      "Collecting selenium\n",
      "\u001b[?25l  Downloading https://files.pythonhosted.org/packages/80/d6/4294f0b4bce4de0abf13e17190289f9d0613b0a44e5dd6a7f5ca98459853/selenium-3.141.0-py2.py3-none-any.whl (904kB)\n",
      "\u001b[K     |████████████████████████████████| 911kB 2.3MB/s eta 0:00:01\n",
      "\u001b[?25hRequirement already satisfied, skipping upgrade: urllib3 in /Users/maxine/anaconda3/lib/python3.7/site-packages (from selenium) (1.24.2)\n",
      "Installing collected packages: selenium\n",
      "Successfully installed selenium-3.141.0\n",
      "Note: you may need to restart the kernel to use updated packages.\n"
     ]
    }
   ],
   "source": [
    "pip install -U selenium"
   ]
  },
  {
   "cell_type": "code",
   "execution_count": 8,
   "metadata": {
    "scrolled": true
   },
   "outputs": [
    {
     "name": "stdout",
     "output_type": "stream",
     "text": [
      "Collecting webdriver-manager\n",
      "  Downloading https://files.pythonhosted.org/packages/b4/01/f093567666448d7a9c4db85e0581ad5f3aa225af79e6eb71ae13b6bf20dc/webdriver_manager-3.4.1-py2.py3-none-any.whl\n",
      "Collecting configparser (from webdriver-manager)\n",
      "  Downloading https://files.pythonhosted.org/packages/fd/01/ff260a18caaf4457eb028c96eeb405c4a230ca06c8ec9c1379f813caa52e/configparser-5.0.2-py3-none-any.whl\n",
      "Collecting crayons (from webdriver-manager)\n",
      "  Downloading https://files.pythonhosted.org/packages/5b/0d/e3fad4ca1de8e70e06444e7d777a5984261e1db98758b5be3e8296c03fe9/crayons-0.4.0-py2.py3-none-any.whl\n",
      "Requirement already satisfied: requests in /Users/maxine/anaconda3/lib/python3.7/site-packages (from webdriver-manager) (2.23.0)\n",
      "Requirement already satisfied: colorama in /Users/maxine/anaconda3/lib/python3.7/site-packages (from crayons->webdriver-manager) (0.4.1)\n",
      "Requirement already satisfied: certifi>=2017.4.17 in /Users/maxine/anaconda3/lib/python3.7/site-packages (from requests->webdriver-manager) (2019.9.11)\n",
      "Requirement already satisfied: idna<3,>=2.5 in /Users/maxine/anaconda3/lib/python3.7/site-packages (from requests->webdriver-manager) (2.8)\n",
      "Requirement already satisfied: chardet<4,>=3.0.2 in /Users/maxine/anaconda3/lib/python3.7/site-packages (from requests->webdriver-manager) (3.0.4)\n",
      "Requirement already satisfied: urllib3!=1.25.0,!=1.25.1,<1.26,>=1.21.1 in /Users/maxine/anaconda3/lib/python3.7/site-packages (from requests->webdriver-manager) (1.24.2)\n",
      "Installing collected packages: configparser, crayons, webdriver-manager\n",
      "Successfully installed configparser-5.0.2 crayons-0.4.0 webdriver-manager-3.4.1\n",
      "Note: you may need to restart the kernel to use updated packages.\n"
     ]
    }
   ],
   "source": [
    "pip install webdriver-manager"
   ]
  },
  {
   "cell_type": "code",
   "execution_count": 4,
   "metadata": {},
   "outputs": [],
   "source": [
    "from selenium import webdriver\n",
    "from selenium.webdriver.common.by import By\n",
    "from selenium.webdriver.common.keys import Keys\n",
    "from selenium.webdriver.support.ui import WebDriverWait\n",
    "from selenium.webdriver.support.expected_conditions import presence_of_element_located\n",
    "from webdriver_manager.chrome import ChromeDriverManager"
   ]
  },
  {
   "cell_type": "code",
   "execution_count": 73,
   "metadata": {},
   "outputs": [
    {
     "name": "stderr",
     "output_type": "stream",
     "text": [
      "\n",
      "\n",
      "====== WebDriver manager ======\n",
      "Current google-chrome version is 90.0.4430\n",
      "Get LATEST driver version for 90.0.4430\n",
      "Driver [/Users/maxine/.wdm/drivers/chromedriver/mac64/90.0.4430.24/chromedriver] found in cache\n"
     ]
    }
   ],
   "source": [
    "driver = webdriver.Chrome(ChromeDriverManager().install())\n",
    "wait = WebDriverWait(driver, 10)\n",
    "driver.get(\"https://www.workaway.info/\")\n",
    "driver.find_element_by_class_name('dropdown').click()\n",
    "driver.find_element_by_css_selector('[data-target]').click()\n",
    "username = driver.find_element_by_name('un')\n",
    "username.send_keys(\"maxine.m.liu@gmail.com\")\n",
    "password = driver.find_element_by_name('pw')\n",
    "password.send_keys(\"ib%$1s6526^1Yz\")\n",
    "driver.find_element_by_css_selector('[data-action]').click()\n",
    "# driver.find_element_by_class_name(\"btn-modal-login\").click()\n",
    "# driver.find_element_by_css_selector('[data-action]').click()\n",
    "# login.submit()\n",
    "\n",
    "# driver.find_element_by_class(\"btn btn-modal-login btn-block\").click()"
   ]
  },
  {
   "cell_type": "raw",
   "metadata": {},
   "source": [
    "<a href=\"#\" data-toggle=\"modal\" data-target=\"#modalLogin\" data-login=\"\" data-who=\"w\"> Login as Workawayer</a>"
   ]
  },
  {
   "cell_type": "code",
   "execution_count": 64,
   "metadata": {},
   "outputs": [
    {
     "data": {
      "text/plain": [
       "<selenium.webdriver.remote.webelement.WebElement (session=\"3a9b7546360b624f4cf11754a0830db3\", element=\"47156e18-e2c2-4950-bc31-01934211a90c\")>"
      ]
     },
     "execution_count": 64,
     "metadata": {},
     "output_type": "execute_result"
    }
   ],
   "source": [
    "driver.find_element_by_css_selector('[data-action]')"
   ]
  },
  {
   "cell_type": "code",
   "execution_count": 8,
   "metadata": {},
   "outputs": [
    {
     "name": "stderr",
     "output_type": "stream",
     "text": [
      "\n",
      "\n",
      "====== WebDriver manager ======\n",
      "Current google-chrome version is 90.0.4430\n",
      "Get LATEST driver version for 90.0.4430\n",
      "Driver [/Users/maxine/.wdm/drivers/chromedriver/mac64/90.0.4430.24/chromedriver] found in cache\n"
     ]
    },
    {
     "name": "stdout",
     "output_type": "stream",
     "text": [
      "<selenium.webdriver.remote.webelement.WebElement (session=\"04bf0db03cef83786fa7f54f98dc16d4\", element=\"0c403419-7faa-4f4a-8144-ce1287731f84\")>\n"
     ]
    }
   ],
   "source": [
    "with webdriver.Chrome(ChromeDriverManager().install()) as driver:\n",
    "    wait = WebDriverWait(driver, 10)\n",
    "    driver.get(\"https://www.workaway.info/\")\n",
    "#     driver.find_element_by_tag_name('a').click()\n",
    "    driver.find_element_by_tag_name('a')\n",
    "    print(driver.find_element_by_tag_name('a'))\n",
    "#     driver.find_element_by_id('loginElementsForm').click()\n",
    "#     driver.find_element_by_class_name('navbar-user-text')\n",
    "#     print(driver.find_element_by_class_name('navbar-user-item'))\n",
    "    # blocker is that I need to be able to click the button\n",
    "#     driver.find_element_by_class_name('navbar-user-item').click()"
   ]
  },
  {
   "cell_type": "code",
   "execution_count": null,
   "metadata": {},
   "outputs": [],
   "source": []
  },
  {
   "cell_type": "code",
   "execution_count": null,
   "metadata": {},
   "outputs": [],
   "source": []
  }
 ],
 "metadata": {
  "kernelspec": {
   "display_name": "Python 3",
   "language": "python",
   "name": "python3"
  },
  "language_info": {
   "codemirror_mode": {
    "name": "ipython",
    "version": 3
   },
   "file_extension": ".py",
   "mimetype": "text/x-python",
   "name": "python",
   "nbconvert_exporter": "python",
   "pygments_lexer": "ipython3",
   "version": "3.7.4"
  },
  "toc": {
   "base_numbering": 1,
   "nav_menu": {},
   "number_sections": true,
   "sideBar": true,
   "skip_h1_title": false,
   "title_cell": "Table of Contents",
   "title_sidebar": "Contents",
   "toc_cell": true,
   "toc_position": {
    "height": "calc(100% - 180px)",
    "left": "10px",
    "top": "150px",
    "width": "165px"
   },
   "toc_section_display": true,
   "toc_window_display": true
  }
 },
 "nbformat": 4,
 "nbformat_minor": 2
}
